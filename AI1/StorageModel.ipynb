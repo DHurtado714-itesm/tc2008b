{
 "cells": [
  {
   "cell_type": "markdown",
   "metadata": {},
   "source": [
    "### Profesor: Dr. Pedro O. Perez\n",
    "### Alumno: Daniel Hurtado\n",
    "#### Fecha: 19-11-2023"
   ]
  },
  {
   "cell_type": "markdown",
   "metadata": {},
   "source": [
    "## Simulación de Almacenamiento con Agentes Autónomos\n",
    "\n",
    "### Descripción General\n",
    "Este código implementa una simulación de un sistema de almacenamiento automatizado utilizando agentes autónomos, específicamente robots de almacenamiento. El objetivo es optimizar la distribución de cajas en un almacén.\n",
    "\n",
    "### Estructura del Código\n",
    "1. **Importaciones**: Se importan bibliotecas necesarias como `mesa` para la simulación basada en agentes, `numpy` y `pandas` para el manejo de datos numéricos, y `matplotlib` para visualización.\n",
    "\n",
    "2. **Constantes**: Se definen constantes como `SEED` para reproducibilidad, `EMPTY` para celdas vacías y `MAX_BOX_STACK` para el apilamiento máximo de cajas.\n",
    "\n",
    "3. **Clase `StorageRobot`**: Representa un robot de almacenamiento, capaz de transportar y apilar cajas.\n",
    "   - **Métodos clave**:\n",
    "     - `move`: Mueve al agente a una celda vecina vacía.\n",
    "     - `pick_box` y `stack_box`: Recogen y apilan cajas respectivamente.\n",
    "     - `get_best_cell`: Identifica la mejor celda para moverse según una condición dada.\n",
    "\n",
    "4. **Clase `StorageModel`**: Modelo del sistema de almacenamiento.\n",
    "   - **Inicialización**: Crea una grid, coloca agentes y distribuye cajas.\n",
    "   - **Métodos clave**:\n",
    "     - `step`: Avanza un paso en la simulación, recopilando datos y actualizando el estado.\n",
    "     - `is_finished`: Verifica si la simulación ha alcanzado su condición de finalización (todas las cajas están apiladas adecuadamente).\n",
    "\n",
    "5. **Visualización**: Se utiliza `matplotlib` para mostrar el estado inicial del almacén y la progresión de la simulación.\n",
    "\n",
    "6. **Ejecución de la Simulación**: Se inicializa el modelo y se ejecuta hasta que se completa o se alcanza el número máximo de pasos. Se mide el tiempo total de ejecución.\n",
    "\n",
    "### Estrategia y Mecanismos Utilizados\n",
    "- **Agentes Autónomos**: Cada robot opera independientemente, tomando decisiones basadas en su entorno inmediato.\n",
    "- **Búsqueda Local**: Los robots buscan en sus vecindades cercanas para encontrar la mejor acción (recoger o apilar cajas).\n",
    "- **Distribución Aleatoria de Cajas**: Las cajas se distribuyen aleatoriamente al inicio, representando un entorno desordenado típico de un almacén.\n",
    "\n",
    "### Posibles Mejoras\n",
    "- **Optimización de Rutas**: Implementar algoritmos de búsqueda de caminos para minimizar el movimiento innecesario.\n",
    "- **Colaboración entre Agentes**: Permitir que los robots colaboren o se comuniquen para evitar sobreposiciones y optimizar la distribución del trabajo.\n",
    "\n",
    "### Reducción de Pasos\n",
    "Para reducir el número de pasos en la simulación, se podrían implementar las siguientes estrategias:\n",
    "- **Planificación Centralizada**: Utilizar un sistema de control central para dirigir a los robots de manera más eficiente.\n",
    "- **Aprendizaje Automático**: Entrenar a los agentes mediante técnicas de aprendizaje por refuerzo para mejorar su eficiencia en la toma de decisiones."
   ]
  },
  {
   "cell_type": "markdown",
   "metadata": {},
   "source": [
    "## Imports"
   ]
  },
  {
   "cell_type": "code",
   "execution_count": 38,
   "metadata": {},
   "outputs": [],
   "source": [
    "from mesa import Agent, Model\n",
    "from mesa.space import SingleGrid\n",
    "from mesa.time import RandomActivation\n",
    "from mesa.datacollection import DataCollector\n",
    "\n",
    "# Importamos los siguientes paquetes para el mejor manejo de valores numéricos.\n",
    "import numpy as np\n",
    "import pandas as pd\n",
    "import random\n",
    "\n",
    "# matplotlib lo usaremos crear una animación de cada uno de los pasos del modelo.\n",
    "%matplotlib inline\n",
    "import matplotlib\n",
    "import matplotlib.pyplot as plt\n",
    "import matplotlib.animation as animation\n",
    "plt.rcParams[\"animation.html\"] = \"jshtml\"\n",
    "matplotlib.rcParams['animation.embed_limit'] = 2**128\n",
    "\n",
    "# Definimos otros paquetes que vamos a usar para medir el tiempo de ejecución de nuestro algoritmo.\n",
    "import time\n",
    "import datetime"
   ]
  },
  {
   "cell_type": "markdown",
   "metadata": {},
   "source": [
    "### Constantes"
   ]
  },
  {
   "cell_type": "code",
   "execution_count": 39,
   "metadata": {},
   "outputs": [],
   "source": [
    "SEED = 67890\n",
    "EMPTY = 0\n",
    "MAX_BOX_STACK = 5"
   ]
  },
  {
   "cell_type": "markdown",
   "metadata": {},
   "source": [
    "# Agente de la simulación\n"
   ]
  },
  {
   "cell_type": "code",
   "execution_count": 40,
   "metadata": {},
   "outputs": [],
   "source": [
    "class StorageRobot(Agent):\n",
    "    def __init__(self, id, model):\n",
    "        super().__init__(id, model)\n",
    "        self.carrying_box = False\n",
    "        self.random.seed(SEED)\n",
    "    \n",
    "    def step(self):\n",
    "        x, y = self.pos\n",
    "        if self.carrying_box:\n",
    "            self.stack_box(x, y)\n",
    "        else:\n",
    "            self.pick_box(x, y)\n",
    "\n",
    "    def move(self, x, y):\n",
    "        possible_moves = [cell for cell in self.model.grid.get_neighborhood(self.pos, moore=False, include_center=False) if self.model.grid.is_cell_empty(cell)]\n",
    "\n",
    "        if possible_moves:\n",
    "            new_position = random.choice(possible_moves)\n",
    "            self.model.grid.move_agent(self, new_position)\n",
    "\n",
    "    def get_best_cell(self, condition):\n",
    "        neighboor_cells = self.model.grid.get_neighborhood(self.pos, moore=False, include_center=True)\n",
    "        best_value = -1\n",
    "        best_cell = None\n",
    "\n",
    "        for cell in neighboor_cells:\n",
    "            cell_x, cell_y = cell\n",
    "            cell_value = self.model.get_cell_value(cell_x, cell_y)\n",
    "\n",
    "            if condition(cell_x, cell_y) and cell_value > best_value:\n",
    "                best_value = cell_value\n",
    "                best_cell = cell\n",
    "\n",
    "        return best_cell\n",
    "\n",
    "    def pick_box(self, x, y):\n",
    "        def condition(cell_x, cell_y):\n",
    "            return not self.model.is_empty(cell_x, cell_y) and not self.model.is_full(cell_x, cell_y)\n",
    "\n",
    "        best_cell = self.get_best_cell(condition)\n",
    "\n",
    "        if best_cell:\n",
    "            self.model.pick_box(*best_cell)\n",
    "            self.carrying_box = True\n",
    "\n",
    "        self.move(x, y)\n",
    "\n",
    "    def stack_box(self, x, y):\n",
    "        def condition(cell_x, cell_y):\n",
    "            return not self.model.is_full(cell_x, cell_y) and not self.model.is_empty(cell_x, cell_y)\n",
    "\n",
    "        best_cell = self.get_best_cell(condition)\n",
    "\n",
    "        if best_cell:\n",
    "            self.model.stack_box(*best_cell)\n",
    "            self.carrying_box = False\n",
    "\n",
    "        self.move(x, y)\n",
    "\n"
   ]
  },
  {
   "cell_type": "code",
   "execution_count": 41,
   "metadata": {},
   "outputs": [],
   "source": [
    "def get_grid(model):\n",
    "    grid = np.zeros( (model.grid.width, model.grid.height) )\n",
    "    grid = np.copy(model.boxes_amount)\n",
    "    return grid"
   ]
  },
  {
   "cell_type": "markdown",
   "metadata": {},
   "source": [
    "## Modelo de la simulación"
   ]
  },
  {
   "cell_type": "code",
   "execution_count": 42,
   "metadata": {},
   "outputs": [],
   "source": [
    "class StorageModel(Model):\n",
    "    def __init__(self, width, height, num_agents, total_boxes):\n",
    "        self.grid = SingleGrid(width, height, torus = False)\n",
    "        self.schedule = RandomActivation(self)\n",
    "        self.datacollector = DataCollector(model_reporters={\"CellValues\": get_grid})\n",
    "        self.boxes_amount = np.zeros((width, height))\n",
    "        self.steps = 0\n",
    "        self.total_boxes_grid = 0\n",
    "        self.finished = False\n",
    "        self.random.seed(SEED)\n",
    "\n",
    "        self.generate_agents(num_agents)\n",
    "        self.generate_boxes(total_boxes)\n",
    "\n",
    "    def generate_agents(self, num_agents):\n",
    "        id = 0\n",
    "        for _ in range(num_agents):\n",
    "            agent = StorageRobot(id, self)\n",
    "            self.schedule.add(agent)\n",
    "            x, y = self.random_empty_cell()\n",
    "            self.grid.place_agent(agent, (x, y))\n",
    "            id += 1\n",
    "\n",
    "    def generate_boxes(self, total_boxes):\n",
    "        while total_boxes > self.total_boxes_grid:\n",
    "            x, y = self.random_empty_cell()\n",
    "            if total_boxes - self.total_boxes_grid >= 3:\n",
    "                option = np.random.randint(1, 4)\n",
    "            elif total_boxes - self.total_boxes_grid == 2:\n",
    "                option = np.random.randint(1, 3)\n",
    "            elif total_boxes - self.total_boxes_grid == 1:\n",
    "                option = np.random.randint(1, 2)\n",
    "            self.boxes_amount[x][y] = option\n",
    "            self.total_boxes_grid += option\n",
    "        print(f\"El número de cajas en el grid son: {self.total_boxes_grid}\")\n",
    "\n",
    "    def step(self):\n",
    "        self.datacollector.collect(self)\n",
    "        self.schedule.step()\n",
    "        self.steps += 1\n",
    "        self.is_finished()\n",
    "\n",
    "    def get_steps(self):\n",
    "        return self.steps\n",
    "\n",
    "    def is_state(self, x, y, state):\n",
    "        return self.boxes_amount[x][y] == state\n",
    "\n",
    "    def is_empty(self, x, y):\n",
    "        return self.is_state(x, y, 0)\n",
    "\n",
    "    def is_full(self, x, y):\n",
    "        return self.is_state(x, y, 5)\n",
    "\n",
    "    def stack_box(self, x, y):\n",
    "        self.boxes_amount[x][y] += 1\n",
    "\n",
    "    def pick_box(self, x, y):\n",
    "        self.boxes_amount[x][y] -= 1\n",
    "\n",
    "    def has_box(self, x, y):\n",
    "        return self.get_cell_value(x, y) > 0\n",
    "\n",
    "    def get_cell_value(self, x, y):\n",
    "        return self.boxes_amount[x][y]\n",
    "    \n",
    "    def is_finished(self):\n",
    "        for x in range(self.grid.width):\n",
    "            for y in range(self.grid.height):\n",
    "                cell_value = self.boxes_amount[x][y]\n",
    "                if cell_value != 0 and cell_value != 5:\n",
    "                    return False\n",
    "        self.finished = True\n",
    "        return True\n",
    "    \n",
    "    def get_finished(self):\n",
    "        return self.finished\n",
    "\n",
    "    def random_empty_cell(self):\n",
    "        valid_positions = [(x, y) for x in range(self.grid.width) for y in range(self.grid.height) if self.grid.is_cell_empty((x, y)) and self.boxes_amount[x][y] < 3]\n",
    "        return random.choice(valid_positions)\n",
    "\n",
    "    def random_pos(self):\n",
    "        return random.choice(list(self.grid.G.nodes))"
   ]
  },
  {
   "cell_type": "code",
   "execution_count": 43,
   "metadata": {},
   "outputs": [],
   "source": [
    "def show_graph(model):\n",
    "   boxes_counts = np.zeros( (model.grid.width, model.grid.height) )\n",
    "   for cell in model.grid.coord_iter():\n",
    "       (cell_content, (x, y)) = cell\n",
    "       boxes_counts[x][y] = model.get_cell_value(x, y)\n",
    "\n",
    "   plt.imshow(boxes_counts, interpolation='nearest', cmap=plt.cm.Reds)\n",
    "   plt.colorbar()"
   ]
  },
  {
   "cell_type": "code",
   "execution_count": 44,
   "metadata": {},
   "outputs": [
    {
     "name": "stdout",
     "output_type": "stream",
     "text": [
      "El número de cajas en el grid son: 200\n"
     ]
    },
    {
     "data": {
      "image/png": "[encoded data removed]",
      "text/plain": [
       "<Figure size 640x480 with 2 Axes>"
      ]
     },
     "metadata": {},
     "output_type": "display_data"
    }
   ],
   "source": [
    "WIDTH = 20\n",
    "HEIGHT = 20\n",
    "NUM_AGENTS = 5\n",
    "TOTAL_BOXES = 200\n",
    "MAX_STEPS = 100000\n",
    "\n",
    "model = StorageModel(WIDTH, HEIGHT, NUM_AGENTS, TOTAL_BOXES)\n",
    "show_graph(model)"
   ]
  },
  {
   "cell_type": "code",
   "execution_count": 45,
   "metadata": {},
   "outputs": [
    {
     "name": "stdout",
     "output_type": "stream",
     "text": [
      "Pasos necesarios para terminar la simulacion: 3030\n"
     ]
    },
    {
     "data": {
      "image/png": "[encoded data removed]",
      "text/plain": [
       "<Figure size 640x480 with 2 Axes>"
      ]
     },
     "metadata": {},
     "output_type": "display_data"
    }
   ],
   "source": [
    "# Start the timer\n",
    "start_time = round(time.time(), 2)\n",
    "\n",
    "step = 0\n",
    "while step < MAX_STEPS and not model.get_finished():\n",
    "    model.step()\n",
    "    step += 1\n",
    "\n",
    "# Stop the timer\n",
    "end_time = round(time.time() - start_time, 2)\n",
    "print(f\"Pasos necesarios para terminar la simulacion: {model.get_steps()}\")\n",
    "show_graph(model)\n"
   ]
  },
  {
   "cell_type": "code",
   "execution_count": 46,
   "metadata": {},
   "outputs": [
    {
     "data": {
      "image/png": "[encoded data removed]",
      "text/plain": [
       "<Figure size 500x500 with 1 Axes>"
      ]
     },
     "metadata": {},
     "output_type": "display_data"
    }
   ],
   "source": [
    "all_grid = model.datacollector.get_model_vars_dataframe()\n",
    "fig, axis = plt.subplots(figsize=(5, 5))\n",
    "axis.set_xticks([])\n",
    "axis.set_yticks([])\n",
    "patch = plt.imshow(all_grid.iloc[0][0], cmap = plt.cm.Reds)\n",
    "\n",
    "def animate(frame):\n",
    "    patch.set_data(all_grid.iloc[frame][0])\n",
    "\n",
    "anim = animation.FuncAnimation(fig, animate, frames=model.get_steps() - 1)"
   ]
  },
  {
   "cell_type": "code",
   "execution_count": 47,
   "metadata": {},
   "outputs": [
    {
     "ename": "KeyboardInterrupt",
     "evalue": "",
     "output_type": "error",
     "traceback": [
      "\u001b[0;31m---------------------------------------------------------------------------\u001b[0m",
      "\u001b[0;31mKeyboardInterrupt\u001b[0m                         Traceback (most recent call last)",
      "\u001b[1;32m/Users/danielhurtado/Documents/TC2008B/my-tc2008b/tc2008b-repo/AI1/StorageModel copy 2.ipynb Cell 10\u001b[0m line \u001b[0;36m1\n\u001b[0;32m----> <a href='vscode-notebook-cell:/Users/danielhurtado/Documents/TC2008B/my-tc2008b/tc2008b-repo/AI1/StorageModel%20copy%202.ipynb#X30sZmlsZQ%3D%3D?line=0'>1</a>\u001b[0m anim\n",
      "File \u001b[0;32m~/Library/Python/3.11/lib/python/site-packages/IPython/core/displayhook.py:268\u001b[0m, in \u001b[0;36mDisplayHook.__call__\u001b[0;34m(self, result)\u001b[0m\n\u001b[1;32m    266\u001b[0m \u001b[39mself\u001b[39m\u001b[39m.\u001b[39mstart_displayhook()\n\u001b[1;32m    267\u001b[0m \u001b[39mself\u001b[39m\u001b[39m.\u001b[39mwrite_output_prompt()\n\u001b[0;32m--> 268\u001b[0m format_dict, md_dict \u001b[39m=\u001b[39m \u001b[39mself\u001b[39;49m\u001b[39m.\u001b[39;49mcompute_format_data(result)\n\u001b[1;32m    269\u001b[0m \u001b[39mself\u001b[39m\u001b[39m.\u001b[39mupdate_user_ns(result)\n\u001b[1;32m    270\u001b[0m \u001b[39mself\u001b[39m\u001b[39m.\u001b[39mfill_exec_result(result)\n",
      "File \u001b[0;32m~/Library/Python/3.11/lib/python/site-packages/IPython/core/displayhook.py:157\u001b[0m, in \u001b[0;36mDisplayHook.compute_format_data\u001b[0;34m(self, result)\u001b[0m\n\u001b[1;32m    127\u001b[0m \u001b[39mdef\u001b[39;00m \u001b[39mcompute_format_data\u001b[39m(\u001b[39mself\u001b[39m, result):\n\u001b[1;32m    128\u001b[0m \u001b[39m    \u001b[39m\u001b[39m\"\"\"Compute format data of the object to be displayed.\u001b[39;00m\n\u001b[1;32m    129\u001b[0m \n\u001b[1;32m    130\u001b[0m \u001b[39m    The format data is a generalization of the :func:`repr` of an object.\u001b[39;00m\n\u001b[0;32m   (...)\u001b[0m\n\u001b[1;32m    155\u001b[0m \n\u001b[1;32m    156\u001b[0m \u001b[39m    \"\"\"\u001b[39;00m\n\u001b[0;32m--> 157\u001b[0m     \u001b[39mreturn\u001b[39;00m \u001b[39mself\u001b[39;49m\u001b[39m.\u001b[39;49mshell\u001b[39m.\u001b[39;49mdisplay_formatter\u001b[39m.\u001b[39;49mformat(result)\n",
      "File \u001b[0;32m~/Library/Python/3.11/lib/python/site-packages/IPython/core/formatters.py:179\u001b[0m, in \u001b[0;36mDisplayFormatter.format\u001b[0;34m(self, obj, include, exclude)\u001b[0m\n\u001b[1;32m    177\u001b[0m md \u001b[39m=\u001b[39m \u001b[39mNone\u001b[39;00m\n\u001b[1;32m    178\u001b[0m \u001b[39mtry\u001b[39;00m:\n\u001b[0;32m--> 179\u001b[0m     data \u001b[39m=\u001b[39m formatter(obj)\n\u001b[1;32m    180\u001b[0m \u001b[39mexcept\u001b[39;00m:\n\u001b[1;32m    181\u001b[0m     \u001b[39m# FIXME: log the exception\u001b[39;00m\n\u001b[1;32m    182\u001b[0m     \u001b[39mraise\u001b[39;00m\n",
      "File \u001b[0;32m~/Library/Python/3.11/lib/python/site-packages/decorator.py:232\u001b[0m, in \u001b[0;36mdecorate.<locals>.fun\u001b[0;34m(*args, **kw)\u001b[0m\n\u001b[1;32m    230\u001b[0m \u001b[39mif\u001b[39;00m \u001b[39mnot\u001b[39;00m kwsyntax:\n\u001b[1;32m    231\u001b[0m     args, kw \u001b[39m=\u001b[39m fix(args, kw, sig)\n\u001b[0;32m--> 232\u001b[0m \u001b[39mreturn\u001b[39;00m caller(func, \u001b[39m*\u001b[39;49m(extras \u001b[39m+\u001b[39;49m args), \u001b[39m*\u001b[39;49m\u001b[39m*\u001b[39;49mkw)\n",
      "File \u001b[0;32m~/Library/Python/3.11/lib/python/site-packages/IPython/core/formatters.py:223\u001b[0m, in \u001b[0;36mcatch_format_error\u001b[0;34m(method, self, *args, **kwargs)\u001b[0m\n\u001b[1;32m    221\u001b[0m \u001b[39m\u001b[39m\u001b[39m\"\"\"show traceback on failed format call\"\"\"\u001b[39;00m\n\u001b[1;32m    222\u001b[0m \u001b[39mtry\u001b[39;00m:\n\u001b[0;32m--> 223\u001b[0m     r \u001b[39m=\u001b[39m method(\u001b[39mself\u001b[39;49m, \u001b[39m*\u001b[39;49margs, \u001b[39m*\u001b[39;49m\u001b[39m*\u001b[39;49mkwargs)\n\u001b[1;32m    224\u001b[0m \u001b[39mexcept\u001b[39;00m \u001b[39mNotImplementedError\u001b[39;00m:\n\u001b[1;32m    225\u001b[0m     \u001b[39m# don't warn on NotImplementedErrors\u001b[39;00m\n\u001b[1;32m    226\u001b[0m     \u001b[39mreturn\u001b[39;00m \u001b[39mself\u001b[39m\u001b[39m.\u001b[39m_check_return(\u001b[39mNone\u001b[39;00m, args[\u001b[39m0\u001b[39m])\n",
      "File \u001b[0;32m~/Library/Python/3.11/lib/python/site-packages/IPython/core/formatters.py:344\u001b[0m, in \u001b[0;36mBaseFormatter.__call__\u001b[0;34m(self, obj)\u001b[0m\n\u001b[1;32m    342\u001b[0m     method \u001b[39m=\u001b[39m get_real_method(obj, \u001b[39mself\u001b[39m\u001b[39m.\u001b[39mprint_method)\n\u001b[1;32m    343\u001b[0m     \u001b[39mif\u001b[39;00m method \u001b[39mis\u001b[39;00m \u001b[39mnot\u001b[39;00m \u001b[39mNone\u001b[39;00m:\n\u001b[0;32m--> 344\u001b[0m         \u001b[39mreturn\u001b[39;00m method()\n\u001b[1;32m    345\u001b[0m     \u001b[39mreturn\u001b[39;00m \u001b[39mNone\u001b[39;00m\n\u001b[1;32m    346\u001b[0m \u001b[39melse\u001b[39;00m:\n",
      "File \u001b[0;32m/opt/homebrew/lib/python3.11/site-packages/matplotlib/animation.py:1363\u001b[0m, in \u001b[0;36mAnimation._repr_html_\u001b[0;34m(self)\u001b[0m\n\u001b[1;32m   1361\u001b[0m     \u001b[39mreturn\u001b[39;00m \u001b[39mself\u001b[39m\u001b[39m.\u001b[39mto_html5_video()\n\u001b[1;32m   1362\u001b[0m \u001b[39melif\u001b[39;00m fmt \u001b[39m==\u001b[39m \u001b[39m'\u001b[39m\u001b[39mjshtml\u001b[39m\u001b[39m'\u001b[39m:\n\u001b[0;32m-> 1363\u001b[0m     \u001b[39mreturn\u001b[39;00m \u001b[39mself\u001b[39;49m\u001b[39m.\u001b[39;49mto_jshtml()\n",
      "File \u001b[0;32m/opt/homebrew/lib/python3.11/site-packages/matplotlib/animation.py:1352\u001b[0m, in \u001b[0;36mAnimation.to_jshtml\u001b[0;34m(self, fps, embed_frames, default_mode)\u001b[0m\n\u001b[1;32m   1348\u001b[0m         path \u001b[39m=\u001b[39m Path(tmpdir, \u001b[39m\"\u001b[39m\u001b[39mtemp.html\u001b[39m\u001b[39m\"\u001b[39m)\n\u001b[1;32m   1349\u001b[0m         writer \u001b[39m=\u001b[39m HTMLWriter(fps\u001b[39m=\u001b[39mfps,\n\u001b[1;32m   1350\u001b[0m                             embed_frames\u001b[39m=\u001b[39membed_frames,\n\u001b[1;32m   1351\u001b[0m                             default_mode\u001b[39m=\u001b[39mdefault_mode)\n\u001b[0;32m-> 1352\u001b[0m         \u001b[39mself\u001b[39;49m\u001b[39m.\u001b[39;49msave(\u001b[39mstr\u001b[39;49m(path), writer\u001b[39m=\u001b[39;49mwriter)\n\u001b[1;32m   1353\u001b[0m         \u001b[39mself\u001b[39m\u001b[39m.\u001b[39m_html_representation \u001b[39m=\u001b[39m path\u001b[39m.\u001b[39mread_text()\n\u001b[1;32m   1355\u001b[0m \u001b[39mreturn\u001b[39;00m \u001b[39mself\u001b[39m\u001b[39m.\u001b[39m_html_representation\n",
      "File \u001b[0;32m/opt/homebrew/lib/python3.11/site-packages/matplotlib/animation.py:1103\u001b[0m, in \u001b[0;36mAnimation.save\u001b[0;34m(self, filename, writer, fps, dpi, codec, bitrate, extra_args, metadata, extra_anim, savefig_kwargs, progress_callback)\u001b[0m\n\u001b[1;32m   1100\u001b[0m \u001b[39mfor\u001b[39;00m data \u001b[39min\u001b[39;00m \u001b[39mzip\u001b[39m(\u001b[39m*\u001b[39m[a\u001b[39m.\u001b[39mnew_saved_frame_seq() \u001b[39mfor\u001b[39;00m a \u001b[39min\u001b[39;00m all_anim]):\n\u001b[1;32m   1101\u001b[0m     \u001b[39mfor\u001b[39;00m anim, d \u001b[39min\u001b[39;00m \u001b[39mzip\u001b[39m(all_anim, data):\n\u001b[1;32m   1102\u001b[0m         \u001b[39m# TODO: See if turning off blit is really necessary\u001b[39;00m\n\u001b[0;32m-> 1103\u001b[0m         anim\u001b[39m.\u001b[39;49m_draw_next_frame(d, blit\u001b[39m=\u001b[39;49m\u001b[39mFalse\u001b[39;49;00m)\n\u001b[1;32m   1104\u001b[0m         \u001b[39mif\u001b[39;00m progress_callback \u001b[39mis\u001b[39;00m \u001b[39mnot\u001b[39;00m \u001b[39mNone\u001b[39;00m:\n\u001b[1;32m   1105\u001b[0m             progress_callback(frame_number, total_frames)\n",
      "File \u001b[0;32m/opt/homebrew/lib/python3.11/site-packages/matplotlib/animation.py:1139\u001b[0m, in \u001b[0;36mAnimation._draw_next_frame\u001b[0;34m(self, framedata, blit)\u001b[0m\n\u001b[1;32m   1137\u001b[0m \u001b[39mself\u001b[39m\u001b[39m.\u001b[39m_pre_draw(framedata, blit)\n\u001b[1;32m   1138\u001b[0m \u001b[39mself\u001b[39m\u001b[39m.\u001b[39m_draw_frame(framedata)\n\u001b[0;32m-> 1139\u001b[0m \u001b[39mself\u001b[39;49m\u001b[39m.\u001b[39;49m_post_draw(framedata, blit)\n",
      "File \u001b[0;32m/opt/homebrew/lib/python3.11/site-packages/matplotlib/animation.py:1164\u001b[0m, in \u001b[0;36mAnimation._post_draw\u001b[0;34m(self, framedata, blit)\u001b[0m\n\u001b[1;32m   1162\u001b[0m     \u001b[39mself\u001b[39m\u001b[39m.\u001b[39m_blit_draw(\u001b[39mself\u001b[39m\u001b[39m.\u001b[39m_drawn_artists)\n\u001b[1;32m   1163\u001b[0m \u001b[39melse\u001b[39;00m:\n\u001b[0;32m-> 1164\u001b[0m     \u001b[39mself\u001b[39;49m\u001b[39m.\u001b[39;49m_fig\u001b[39m.\u001b[39;49mcanvas\u001b[39m.\u001b[39;49mdraw_idle()\n",
      "File \u001b[0;32m/opt/homebrew/lib/python3.11/site-packages/matplotlib/backend_bases.py:2082\u001b[0m, in \u001b[0;36mFigureCanvasBase.draw_idle\u001b[0;34m(self, *args, **kwargs)\u001b[0m\n\u001b[1;32m   2080\u001b[0m \u001b[39mif\u001b[39;00m \u001b[39mnot\u001b[39;00m \u001b[39mself\u001b[39m\u001b[39m.\u001b[39m_is_idle_drawing:\n\u001b[1;32m   2081\u001b[0m     \u001b[39mwith\u001b[39;00m \u001b[39mself\u001b[39m\u001b[39m.\u001b[39m_idle_draw_cntx():\n\u001b[0;32m-> 2082\u001b[0m         \u001b[39mself\u001b[39;49m\u001b[39m.\u001b[39;49mdraw(\u001b[39m*\u001b[39;49margs, \u001b[39m*\u001b[39;49m\u001b[39m*\u001b[39;49mkwargs)\n",
      "File \u001b[0;32m/opt/homebrew/lib/python3.11/site-packages/matplotlib/backends/backend_agg.py:400\u001b[0m, in \u001b[0;36mFigureCanvasAgg.draw\u001b[0;34m(self)\u001b[0m\n\u001b[1;32m    396\u001b[0m \u001b[39m# Acquire a lock on the shared font cache.\u001b[39;00m\n\u001b[1;32m    397\u001b[0m \u001b[39mwith\u001b[39;00m RendererAgg\u001b[39m.\u001b[39mlock, \\\n\u001b[1;32m    398\u001b[0m      (\u001b[39mself\u001b[39m\u001b[39m.\u001b[39mtoolbar\u001b[39m.\u001b[39m_wait_cursor_for_draw_cm() \u001b[39mif\u001b[39;00m \u001b[39mself\u001b[39m\u001b[39m.\u001b[39mtoolbar\n\u001b[1;32m    399\u001b[0m       \u001b[39melse\u001b[39;00m nullcontext()):\n\u001b[0;32m--> 400\u001b[0m     \u001b[39mself\u001b[39;49m\u001b[39m.\u001b[39;49mfigure\u001b[39m.\u001b[39;49mdraw(\u001b[39mself\u001b[39;49m\u001b[39m.\u001b[39;49mrenderer)\n\u001b[1;32m    401\u001b[0m     \u001b[39m# A GUI class may be need to update a window using this draw, so\u001b[39;00m\n\u001b[1;32m    402\u001b[0m     \u001b[39m# don't forget to call the superclass.\u001b[39;00m\n\u001b[1;32m    403\u001b[0m     \u001b[39msuper\u001b[39m()\u001b[39m.\u001b[39mdraw()\n",
      "File \u001b[0;32m/opt/homebrew/lib/python3.11/site-packages/matplotlib/artist.py:95\u001b[0m, in \u001b[0;36m_finalize_rasterization.<locals>.draw_wrapper\u001b[0;34m(artist, renderer, *args, **kwargs)\u001b[0m\n\u001b[1;32m     93\u001b[0m \u001b[39m@wraps\u001b[39m(draw)\n\u001b[1;32m     94\u001b[0m \u001b[39mdef\u001b[39;00m \u001b[39mdraw_wrapper\u001b[39m(artist, renderer, \u001b[39m*\u001b[39margs, \u001b[39m*\u001b[39m\u001b[39m*\u001b[39mkwargs):\n\u001b[0;32m---> 95\u001b[0m     result \u001b[39m=\u001b[39m draw(artist, renderer, \u001b[39m*\u001b[39;49margs, \u001b[39m*\u001b[39;49m\u001b[39m*\u001b[39;49mkwargs)\n\u001b[1;32m     96\u001b[0m     \u001b[39mif\u001b[39;00m renderer\u001b[39m.\u001b[39m_rasterizing:\n\u001b[1;32m     97\u001b[0m         renderer\u001b[39m.\u001b[39mstop_rasterizing()\n",
      "File \u001b[0;32m/opt/homebrew/lib/python3.11/site-packages/matplotlib/artist.py:72\u001b[0m, in \u001b[0;36mallow_rasterization.<locals>.draw_wrapper\u001b[0;34m(artist, renderer)\u001b[0m\n\u001b[1;32m     69\u001b[0m     \u001b[39mif\u001b[39;00m artist\u001b[39m.\u001b[39mget_agg_filter() \u001b[39mis\u001b[39;00m \u001b[39mnot\u001b[39;00m \u001b[39mNone\u001b[39;00m:\n\u001b[1;32m     70\u001b[0m         renderer\u001b[39m.\u001b[39mstart_filter()\n\u001b[0;32m---> 72\u001b[0m     \u001b[39mreturn\u001b[39;00m draw(artist, renderer)\n\u001b[1;32m     73\u001b[0m \u001b[39mfinally\u001b[39;00m:\n\u001b[1;32m     74\u001b[0m     \u001b[39mif\u001b[39;00m artist\u001b[39m.\u001b[39mget_agg_filter() \u001b[39mis\u001b[39;00m \u001b[39mnot\u001b[39;00m \u001b[39mNone\u001b[39;00m:\n",
      "File \u001b[0;32m/opt/homebrew/lib/python3.11/site-packages/matplotlib/figure.py:3175\u001b[0m, in \u001b[0;36mFigure.draw\u001b[0;34m(self, renderer)\u001b[0m\n\u001b[1;32m   3172\u001b[0m         \u001b[39m# ValueError can occur when resizing a window.\u001b[39;00m\n\u001b[1;32m   3174\u001b[0m \u001b[39mself\u001b[39m\u001b[39m.\u001b[39mpatch\u001b[39m.\u001b[39mdraw(renderer)\n\u001b[0;32m-> 3175\u001b[0m mimage\u001b[39m.\u001b[39;49m_draw_list_compositing_images(\n\u001b[1;32m   3176\u001b[0m     renderer, \u001b[39mself\u001b[39;49m, artists, \u001b[39mself\u001b[39;49m\u001b[39m.\u001b[39;49msuppressComposite)\n\u001b[1;32m   3178\u001b[0m \u001b[39mfor\u001b[39;00m sfig \u001b[39min\u001b[39;00m \u001b[39mself\u001b[39m\u001b[39m.\u001b[39msubfigs:\n\u001b[1;32m   3179\u001b[0m     sfig\u001b[39m.\u001b[39mdraw(renderer)\n",
      "File \u001b[0;32m/opt/homebrew/lib/python3.11/site-packages/matplotlib/image.py:131\u001b[0m, in \u001b[0;36m_draw_list_compositing_images\u001b[0;34m(renderer, parent, artists, suppress_composite)\u001b[0m\n\u001b[1;32m    129\u001b[0m \u001b[39mif\u001b[39;00m not_composite \u001b[39mor\u001b[39;00m \u001b[39mnot\u001b[39;00m has_images:\n\u001b[1;32m    130\u001b[0m     \u001b[39mfor\u001b[39;00m a \u001b[39min\u001b[39;00m artists:\n\u001b[0;32m--> 131\u001b[0m         a\u001b[39m.\u001b[39;49mdraw(renderer)\n\u001b[1;32m    132\u001b[0m \u001b[39melse\u001b[39;00m:\n\u001b[1;32m    133\u001b[0m     \u001b[39m# Composite any adjacent images together\u001b[39;00m\n\u001b[1;32m    134\u001b[0m     image_group \u001b[39m=\u001b[39m []\n",
      "File \u001b[0;32m/opt/homebrew/lib/python3.11/site-packages/matplotlib/artist.py:72\u001b[0m, in \u001b[0;36mallow_rasterization.<locals>.draw_wrapper\u001b[0;34m(artist, renderer)\u001b[0m\n\u001b[1;32m     69\u001b[0m     \u001b[39mif\u001b[39;00m artist\u001b[39m.\u001b[39mget_agg_filter() \u001b[39mis\u001b[39;00m \u001b[39mnot\u001b[39;00m \u001b[39mNone\u001b[39;00m:\n\u001b[1;32m     70\u001b[0m         renderer\u001b[39m.\u001b[39mstart_filter()\n\u001b[0;32m---> 72\u001b[0m     \u001b[39mreturn\u001b[39;00m draw(artist, renderer)\n\u001b[1;32m     73\u001b[0m \u001b[39mfinally\u001b[39;00m:\n\u001b[1;32m     74\u001b[0m     \u001b[39mif\u001b[39;00m artist\u001b[39m.\u001b[39mget_agg_filter() \u001b[39mis\u001b[39;00m \u001b[39mnot\u001b[39;00m \u001b[39mNone\u001b[39;00m:\n",
      "File \u001b[0;32m/opt/homebrew/lib/python3.11/site-packages/matplotlib/axes/_base.py:3064\u001b[0m, in \u001b[0;36m_AxesBase.draw\u001b[0;34m(self, renderer)\u001b[0m\n\u001b[1;32m   3061\u001b[0m \u001b[39mif\u001b[39;00m artists_rasterized:\n\u001b[1;32m   3062\u001b[0m     _draw_rasterized(\u001b[39mself\u001b[39m\u001b[39m.\u001b[39mfigure, artists_rasterized, renderer)\n\u001b[0;32m-> 3064\u001b[0m mimage\u001b[39m.\u001b[39;49m_draw_list_compositing_images(\n\u001b[1;32m   3065\u001b[0m     renderer, \u001b[39mself\u001b[39;49m, artists, \u001b[39mself\u001b[39;49m\u001b[39m.\u001b[39;49mfigure\u001b[39m.\u001b[39;49msuppressComposite)\n\u001b[1;32m   3067\u001b[0m renderer\u001b[39m.\u001b[39mclose_group(\u001b[39m'\u001b[39m\u001b[39maxes\u001b[39m\u001b[39m'\u001b[39m)\n\u001b[1;32m   3068\u001b[0m \u001b[39mself\u001b[39m\u001b[39m.\u001b[39mstale \u001b[39m=\u001b[39m \u001b[39mFalse\u001b[39;00m\n",
      "File \u001b[0;32m/opt/homebrew/lib/python3.11/site-packages/matplotlib/image.py:131\u001b[0m, in \u001b[0;36m_draw_list_compositing_images\u001b[0;34m(renderer, parent, artists, suppress_composite)\u001b[0m\n\u001b[1;32m    129\u001b[0m \u001b[39mif\u001b[39;00m not_composite \u001b[39mor\u001b[39;00m \u001b[39mnot\u001b[39;00m has_images:\n\u001b[1;32m    130\u001b[0m     \u001b[39mfor\u001b[39;00m a \u001b[39min\u001b[39;00m artists:\n\u001b[0;32m--> 131\u001b[0m         a\u001b[39m.\u001b[39;49mdraw(renderer)\n\u001b[1;32m    132\u001b[0m \u001b[39melse\u001b[39;00m:\n\u001b[1;32m    133\u001b[0m     \u001b[39m# Composite any adjacent images together\u001b[39;00m\n\u001b[1;32m    134\u001b[0m     image_group \u001b[39m=\u001b[39m []\n",
      "File \u001b[0;32m/opt/homebrew/lib/python3.11/site-packages/matplotlib/artist.py:72\u001b[0m, in \u001b[0;36mallow_rasterization.<locals>.draw_wrapper\u001b[0;34m(artist, renderer)\u001b[0m\n\u001b[1;32m     69\u001b[0m     \u001b[39mif\u001b[39;00m artist\u001b[39m.\u001b[39mget_agg_filter() \u001b[39mis\u001b[39;00m \u001b[39mnot\u001b[39;00m \u001b[39mNone\u001b[39;00m:\n\u001b[1;32m     70\u001b[0m         renderer\u001b[39m.\u001b[39mstart_filter()\n\u001b[0;32m---> 72\u001b[0m     \u001b[39mreturn\u001b[39;00m draw(artist, renderer)\n\u001b[1;32m     73\u001b[0m \u001b[39mfinally\u001b[39;00m:\n\u001b[1;32m     74\u001b[0m     \u001b[39mif\u001b[39;00m artist\u001b[39m.\u001b[39mget_agg_filter() \u001b[39mis\u001b[39;00m \u001b[39mnot\u001b[39;00m \u001b[39mNone\u001b[39;00m:\n",
      "File \u001b[0;32m/opt/homebrew/lib/python3.11/site-packages/matplotlib/axis.py:1388\u001b[0m, in \u001b[0;36mAxis.draw\u001b[0;34m(self, renderer, *args, **kwargs)\u001b[0m\n\u001b[1;32m   1385\u001b[0m     \u001b[39mreturn\u001b[39;00m\n\u001b[1;32m   1386\u001b[0m renderer\u001b[39m.\u001b[39mopen_group(\u001b[39m__name__\u001b[39m, gid\u001b[39m=\u001b[39m\u001b[39mself\u001b[39m\u001b[39m.\u001b[39mget_gid())\n\u001b[0;32m-> 1388\u001b[0m ticks_to_draw \u001b[39m=\u001b[39m \u001b[39mself\u001b[39;49m\u001b[39m.\u001b[39;49m_update_ticks()\n\u001b[1;32m   1389\u001b[0m tlb1, tlb2 \u001b[39m=\u001b[39m \u001b[39mself\u001b[39m\u001b[39m.\u001b[39m_get_ticklabel_bboxes(ticks_to_draw, renderer)\n\u001b[1;32m   1391\u001b[0m \u001b[39mfor\u001b[39;00m tick \u001b[39min\u001b[39;00m ticks_to_draw:\n",
      "File \u001b[0;32m/opt/homebrew/lib/python3.11/site-packages/matplotlib/axis.py:1282\u001b[0m, in \u001b[0;36mAxis._update_ticks\u001b[0;34m(self)\u001b[0m\n\u001b[1;32m   1280\u001b[0m     tick\u001b[39m.\u001b[39mset_label1(label)\n\u001b[1;32m   1281\u001b[0m     tick\u001b[39m.\u001b[39mset_label2(label)\n\u001b[0;32m-> 1282\u001b[0m minor_locs \u001b[39m=\u001b[39m \u001b[39mself\u001b[39;49m\u001b[39m.\u001b[39;49mget_minorticklocs()\n\u001b[1;32m   1283\u001b[0m minor_labels \u001b[39m=\u001b[39m \u001b[39mself\u001b[39m\u001b[39m.\u001b[39mminor\u001b[39m.\u001b[39mformatter\u001b[39m.\u001b[39mformat_ticks(minor_locs)\n\u001b[1;32m   1284\u001b[0m minor_ticks \u001b[39m=\u001b[39m \u001b[39mself\u001b[39m\u001b[39m.\u001b[39mget_minor_ticks(\u001b[39mlen\u001b[39m(minor_locs))\n",
      "File \u001b[0;32m/opt/homebrew/lib/python3.11/site-packages/matplotlib/axis.py:1511\u001b[0m, in \u001b[0;36mAxis.get_minorticklocs\u001b[0;34m(self)\u001b[0m\n\u001b[1;32m   1508\u001b[0m     \u001b[39m# Use the transformed view limits as scale.  1e-5 is the default\u001b[39;00m\n\u001b[1;32m   1509\u001b[0m     \u001b[39m# rtol for np.isclose.\u001b[39;00m\n\u001b[1;32m   1510\u001b[0m     tol \u001b[39m=\u001b[39m (hi \u001b[39m-\u001b[39m lo) \u001b[39m*\u001b[39m \u001b[39m1e-5\u001b[39m\n\u001b[0;32m-> 1511\u001b[0m     mask \u001b[39m=\u001b[39m np\u001b[39m.\u001b[39;49misclose(tr_minor_locs[:, \u001b[39mNone\u001b[39;49;00m], tr_major_locs[\u001b[39mNone\u001b[39;49;00m, :],\n\u001b[1;32m   1512\u001b[0m                       atol\u001b[39m=\u001b[39;49mtol, rtol\u001b[39m=\u001b[39;49m\u001b[39m0\u001b[39;49m)\u001b[39m.\u001b[39many(axis\u001b[39m=\u001b[39m\u001b[39m1\u001b[39m)\n\u001b[1;32m   1513\u001b[0m     minor_locs \u001b[39m=\u001b[39m minor_locs[\u001b[39m~\u001b[39mmask]\n\u001b[1;32m   1514\u001b[0m \u001b[39mreturn\u001b[39;00m minor_locs\n",
      "File \u001b[0;32m/opt/homebrew/lib/python3.11/site-packages/numpy/core/numeric.py:2350\u001b[0m, in \u001b[0;36misclose\u001b[0;34m(a, b, rtol, atol, equal_nan)\u001b[0m\n\u001b[1;32m   2348\u001b[0m xfin \u001b[39m=\u001b[39m isfinite(x)\n\u001b[1;32m   2349\u001b[0m yfin \u001b[39m=\u001b[39m isfinite(y)\n\u001b[0;32m-> 2350\u001b[0m \u001b[39mif\u001b[39;00m \u001b[39mall\u001b[39;49m(xfin) \u001b[39mand\u001b[39;00m \u001b[39mall\u001b[39m(yfin):\n\u001b[1;32m   2351\u001b[0m     \u001b[39mreturn\u001b[39;00m within_tol(x, y, atol, rtol)\n\u001b[1;32m   2352\u001b[0m \u001b[39melse\u001b[39;00m:\n",
      "File \u001b[0;32m/opt/homebrew/lib/python3.11/site-packages/numpy/core/fromnumeric.py:2504\u001b[0m, in \u001b[0;36mall\u001b[0;34m(a, axis, out, keepdims, where)\u001b[0m\n\u001b[1;32m   2421\u001b[0m \u001b[39m@array_function_dispatch\u001b[39m(_all_dispatcher)\n\u001b[1;32m   2422\u001b[0m \u001b[39mdef\u001b[39;00m \u001b[39mall\u001b[39m(a, axis\u001b[39m=\u001b[39m\u001b[39mNone\u001b[39;00m, out\u001b[39m=\u001b[39m\u001b[39mNone\u001b[39;00m, keepdims\u001b[39m=\u001b[39mnp\u001b[39m.\u001b[39m_NoValue, \u001b[39m*\u001b[39m, where\u001b[39m=\u001b[39mnp\u001b[39m.\u001b[39m_NoValue):\n\u001b[1;32m   2423\u001b[0m \u001b[39m    \u001b[39m\u001b[39m\"\"\"\u001b[39;00m\n\u001b[1;32m   2424\u001b[0m \u001b[39m    Test whether all array elements along a given axis evaluate to True.\u001b[39;00m\n\u001b[1;32m   2425\u001b[0m \n\u001b[0;32m   (...)\u001b[0m\n\u001b[1;32m   2502\u001b[0m \n\u001b[1;32m   2503\u001b[0m \u001b[39m    \"\"\"\u001b[39;00m\n\u001b[0;32m-> 2504\u001b[0m     \u001b[39mreturn\u001b[39;00m _wrapreduction(a, np\u001b[39m.\u001b[39;49mlogical_and, \u001b[39m'\u001b[39;49m\u001b[39mall\u001b[39;49m\u001b[39m'\u001b[39;49m, axis, \u001b[39mNone\u001b[39;49;00m, out,\n\u001b[1;32m   2505\u001b[0m                           keepdims\u001b[39m=\u001b[39;49mkeepdims, where\u001b[39m=\u001b[39;49mwhere)\n",
      "File \u001b[0;32m/opt/homebrew/lib/python3.11/site-packages/numpy/core/fromnumeric.py:88\u001b[0m, in \u001b[0;36m_wrapreduction\u001b[0;34m(obj, ufunc, method, axis, dtype, out, **kwargs)\u001b[0m\n\u001b[1;32m     85\u001b[0m         \u001b[39melse\u001b[39;00m:\n\u001b[1;32m     86\u001b[0m             \u001b[39mreturn\u001b[39;00m reduction(axis\u001b[39m=\u001b[39maxis, out\u001b[39m=\u001b[39mout, \u001b[39m*\u001b[39m\u001b[39m*\u001b[39mpasskwargs)\n\u001b[0;32m---> 88\u001b[0m \u001b[39mreturn\u001b[39;00m ufunc\u001b[39m.\u001b[39;49mreduce(obj, axis, dtype, out, \u001b[39m*\u001b[39;49m\u001b[39m*\u001b[39;49mpasskwargs)\n",
      "\u001b[0;31mKeyboardInterrupt\u001b[0m: "
     ]
    }
   ],
   "source": [
    "anim"
   ]
  }
 ],
 "metadata": {
  "kernelspec": {
   "display_name": "Python 3",
   "language": "python",
   "name": "python3"
  },
  "language_info": {
   "codemirror_mode": {
    "name": "ipython",
    "version": 3
   },
   "file_extension": ".py",
   "mimetype": "text/x-python",
   "name": "python",
   "nbconvert_exporter": "python",
   "pygments_lexer": "ipython3",
   "version": "3.11.6"
  }
 },
 "nbformat": 4,
 "nbformat_minor": 2
}

{
 "cells": [
  {
   "cell_type": "code",
   "execution_count": 14,
   "metadata": {},
   "outputs": [],
   "source": [
    "from mesa import Agent, Model\n",
    "from mesa.space import MultiGrid\n",
    "from mesa.time import SimultaneousActivation\n",
    "from mesa.datacollection import DataCollector\n",
    "\n",
    "# Importamos los siguientes paquetes para el mejor manejo de valores numéricos.\n",
    "import numpy as np\n",
    "import pandas as pd\n",
    "\n",
    "# matplotlib lo usaremos crear una animación de cada uno de los pasos del modelo.\n",
    "%matplotlib inline\n",
    "import matplotlib\n",
    "import matplotlib.pyplot as plt\n",
    "import matplotlib.animation as animation\n",
    "plt.rcParams[\"animation.html\"] = \"jshtml\"\n",
    "matplotlib.rcParams['animation.embed_limit'] = 2**128\n",
    "\n",
    "# Definimos otros paquetes que vamos a usar para medir el tiempo de ejecución de nuestro algoritmo.\n",
    "import time\n",
    "import datetime"
   ]
  },
  {
   "cell_type": "code",
   "execution_count": 15,
   "metadata": {},
   "outputs": [],
   "source": [
    "DIRTY = 1"
   ]
  },
  {
   "cell_type": "code",
   "execution_count": 16,
   "metadata": {},
   "outputs": [],
   "source": [
    "class CleaningRobot(Agent):\n",
    "    def __init__(self, unique_id, model):\n",
    "        super().__init__(unique_id, model)\n",
    "\n",
    "    def step(self):\n",
    "        # Si la celda esta sucia, la limpia\n",
    "        if self.model.grid[self.pos] == DIRTY:\n",
    "            self.model.grid[self.pos] = 0\n",
    "            self.model.cleaned += 1\n",
    "        else:\n",
    "            # Elige una nueva celda\n",
    "            self.move()\n",
    "\n",
    "    def move(self):\n",
    "        # Da de alta sus posibles movimientos\n",
    "        next_moves = self.model.grid.get_neighborhood(self.pos, moore=True, include_center=False)\n",
    "        # Se mueve a dichas celdas\n",
    "        next_move = self.random.choice(next_moves)\n",
    "        # Intenta moverse a una nueva posicion\n",
    "        if self.model.grid.is_cell_empty(next_move):\n",
    "            self.model.grid.move_agent(self, next_move)"
   ]
  },
  {
   "cell_type": "code",
   "execution_count": 17,
   "metadata": {},
   "outputs": [],
   "source": [
    "# def get_grid(model):"
   ]
  },
  {
   "cell_type": "code",
   "execution_count": 22,
   "metadata": {},
   "outputs": [],
   "source": [
    "class CleaningModel(Model):\n",
    "    def __init__(self, width, height, initial_dirt, n_agents):\n",
    "        self.grid = MultiGrid(width, height, True)\n",
    "        self.schedule = SimultaneousActivation(self)\n",
    "        self.cleaned = 0 # Es el contador de celdad limpias\n",
    "\n",
    "        # Iniciamos celdad sucias\n",
    "        for _, x, y in self.grid.coord_iter():\n",
    "            if self.random.random() < initial_dirt:\n",
    "                self.grid[x][y] = DIRTY\n",
    "\n",
    "        for i in range(n_agents):\n",
    "            robot = CleaningRobot(i, self)\n",
    "            # Lo agentes empiezan en la celda 1, 1\n",
    "            self.grid.place_agent(robot, (1,1))\n",
    "            self.schedule.add(robot)\n",
    "\n",
    "        self.datacollector = DataCollector(\n",
    "            model_reporters={\"Cleaned\": lambda m: m.cleaned}\n",
    "        )\n",
    "\n",
    "    def step(self):\n",
    "        self.datacollector.collect(self)\n",
    "        self.schedule.step()"
   ]
  },
  {
   "cell_type": "code",
   "execution_count": 23,
   "metadata": {},
   "outputs": [
    {
     "ename": "TypeError",
     "evalue": "'<=' not supported between instances of 'int' and 'list'",
     "output_type": "error",
     "traceback": [
      "\u001b[0;31m---------------------------------------------------------------------------\u001b[0m",
      "\u001b[0;31mTypeError\u001b[0m                                 Traceback (most recent call last)",
      "\u001b[1;32m/Users/danielhurtado/Documents/TC2008B/my-tc2008b/tc2008b-repo/M1/agentes-limpiadores/Model.ipynb Cell 6\u001b[0m line \u001b[0;36m6\n\u001b[1;32m      <a href='vscode-notebook-cell:/Users/danielhurtado/Documents/TC2008B/my-tc2008b/tc2008b-repo/M1/agentes-limpiadores/Model.ipynb#W5sZmlsZQ%3D%3D?line=2'>3</a>\u001b[0m initial_dirt \u001b[39m=\u001b[39m \u001b[39m0.9\u001b[39m\n\u001b[1;32m      <a href='vscode-notebook-cell:/Users/danielhurtado/Documents/TC2008B/my-tc2008b/tc2008b-repo/M1/agentes-limpiadores/Model.ipynb#W5sZmlsZQ%3D%3D?line=3'>4</a>\u001b[0m n_agents \u001b[39m=\u001b[39m \u001b[39m1\u001b[39m\n\u001b[0;32m----> <a href='vscode-notebook-cell:/Users/danielhurtado/Documents/TC2008B/my-tc2008b/tc2008b-repo/M1/agentes-limpiadores/Model.ipynb#W5sZmlsZQ%3D%3D?line=5'>6</a>\u001b[0m model \u001b[39m=\u001b[39m CleaningModel(width, height, initial_dirt, n_agents)\n\u001b[1;32m      <a href='vscode-notebook-cell:/Users/danielhurtado/Documents/TC2008B/my-tc2008b/tc2008b-repo/M1/agentes-limpiadores/Model.ipynb#W5sZmlsZQ%3D%3D?line=7'>8</a>\u001b[0m \u001b[39mwhile\u001b[39;00m model\u001b[39m.\u001b[39mcleaned \u001b[39m<\u001b[39m width \u001b[39m*\u001b[39m height \u001b[39m*\u001b[39m (\u001b[39m1\u001b[39m \u001b[39m-\u001b[39m initial_dirt):\n\u001b[1;32m      <a href='vscode-notebook-cell:/Users/danielhurtado/Documents/TC2008B/my-tc2008b/tc2008b-repo/M1/agentes-limpiadores/Model.ipynb#W5sZmlsZQ%3D%3D?line=8'>9</a>\u001b[0m     model\u001b[39m.\u001b[39mstep()\n",
      "\u001b[1;32m/Users/danielhurtado/Documents/TC2008B/my-tc2008b/tc2008b-repo/M1/agentes-limpiadores/Model.ipynb Cell 6\u001b[0m line \u001b[0;36m9\n\u001b[1;32m      <a href='vscode-notebook-cell:/Users/danielhurtado/Documents/TC2008B/my-tc2008b/tc2008b-repo/M1/agentes-limpiadores/Model.ipynb#W5sZmlsZQ%3D%3D?line=6'>7</a>\u001b[0m \u001b[39m# Iniciamos celdad sucias\u001b[39;00m\n\u001b[1;32m      <a href='vscode-notebook-cell:/Users/danielhurtado/Documents/TC2008B/my-tc2008b/tc2008b-repo/M1/agentes-limpiadores/Model.ipynb#W5sZmlsZQ%3D%3D?line=7'>8</a>\u001b[0m \u001b[39mfor\u001b[39;00m x, y \u001b[39min\u001b[39;00m \u001b[39mself\u001b[39m\u001b[39m.\u001b[39mgrid\u001b[39m.\u001b[39mcoord_iter():\n\u001b[0;32m----> <a href='vscode-notebook-cell:/Users/danielhurtado/Documents/TC2008B/my-tc2008b/tc2008b-repo/M1/agentes-limpiadores/Model.ipynb#W5sZmlsZQ%3D%3D?line=8'>9</a>\u001b[0m     \u001b[39mif\u001b[39;00m \u001b[39m0\u001b[39;49m \u001b[39m<\u001b[39;49m\u001b[39m=\u001b[39;49m x \u001b[39m<\u001b[39;49m \u001b[39mself\u001b[39;49m\u001b[39m.\u001b[39;49mgrid\u001b[39m.\u001b[39;49mwidth \u001b[39mand\u001b[39;00m \u001b[39m0\u001b[39m \u001b[39m<\u001b[39m\u001b[39m=\u001b[39m y \u001b[39m<\u001b[39m \u001b[39mself\u001b[39m\u001b[39m.\u001b[39mgrid\u001b[39m.\u001b[39mheight:\n\u001b[1;32m     <a href='vscode-notebook-cell:/Users/danielhurtado/Documents/TC2008B/my-tc2008b/tc2008b-repo/M1/agentes-limpiadores/Model.ipynb#W5sZmlsZQ%3D%3D?line=9'>10</a>\u001b[0m         \u001b[39mif\u001b[39;00m \u001b[39mself\u001b[39m\u001b[39m.\u001b[39mrandom\u001b[39m.\u001b[39mrandom() \u001b[39m<\u001b[39m initial_dirt:\n\u001b[1;32m     <a href='vscode-notebook-cell:/Users/danielhurtado/Documents/TC2008B/my-tc2008b/tc2008b-repo/M1/agentes-limpiadores/Model.ipynb#W5sZmlsZQ%3D%3D?line=10'>11</a>\u001b[0m             \u001b[39mself\u001b[39m\u001b[39m.\u001b[39mgrid[x][y] \u001b[39m=\u001b[39m DIRTY\n",
      "\u001b[0;31mTypeError\u001b[0m: '<=' not supported between instances of 'int' and 'list'"
     ]
    }
   ],
   "source": [
    "width = 100\n",
    "height = 100\n",
    "initial_dirt = 0.9\n",
    "n_agents = 1\n",
    "\n",
    "model = CleaningModel(width, height, initial_dirt, n_agents)\n",
    "\n",
    "while model.cleaned < width * height * (1 - initial_dirt):\n",
    "    model.step()"
   ]
  },
  {
   "cell_type": "code",
   "execution_count": null,
   "metadata": {},
   "outputs": [],
   "source": [
    "# all_grid = model.datacollector.get_model_vars_dataframe()"
   ]
  },
  {
   "cell_type": "code",
   "execution_count": null,
   "metadata": {},
   "outputs": [],
   "source": [
    "# fig, axs = plt.subplots(figsize=(7,7))\n",
    "# axs.set_xticks([])\n",
    "# axs.set_yticks([])\n",
    "# patch = plt.imshow(all_grid.iloc[0][0], cmap=plt.cm.binary)\n",
    "\n",
    "# def animate(i):\n",
    "#     patch.set_data(all_grid.iloc[i][0])\n",
    "    \n",
    "# anim = animation.FuncAnimation(fig, animate, frames=MAX_GENERATIONS)"
   ]
  },
  {
   "cell_type": "code",
   "execution_count": null,
   "metadata": {},
   "outputs": [],
   "source": [
    "# anim"
   ]
  }
 ],
 "metadata": {
  "kernelspec": {
   "display_name": "Python 3",
   "language": "python",
   "name": "python3"
  },
  "language_info": {
   "codemirror_mode": {
    "name": "ipython",
    "version": 3
   },
   "file_extension": ".py",
   "mimetype": "text/x-python",
   "name": "python",
   "nbconvert_exporter": "python",
   "pygments_lexer": "ipython3",
   "version": "3.11.6"
  }
 },
 "nbformat": 4,
 "nbformat_minor": 2
}
